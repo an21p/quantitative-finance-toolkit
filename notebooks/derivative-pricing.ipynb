{
 "cells": [
  {
   "cell_type": "markdown",
   "metadata": {},
   "source": [
    "## Definitions"
   ]
  },
  {
   "cell_type": "markdown",
   "metadata": {},
   "source": [
    "- Strike Price: This is the price at which our option is exercised at\n",
    "- Underlying: This refers to the asset (which could really be anything which has a price) which underlies the derivative contract.\n",
    "- ITM (In-the-money): An option is ITM if it is currently “worth” exercising today i.e. for a call option the current underlying’s price is greater than the strike price (and vice versa for a put).\n",
    "- OTM (Out-of-the-money): An option is OTM if it is currently “not worth” exercising today.\n",
    "- ATM (At-the-money): An option is ATM if it is neither ITM or OTM, i.e. exercising today would have no tangible effect (ignoring any transaction costs/option premiums)."
   ]
  },
  {
   "cell_type": "code",
   "execution_count": 86,
   "metadata": {},
   "outputs": [],
   "source": [
    "import numpy as np\n",
    "import matplotlib.pyplot as plt\n",
    "from mpl_toolkits import mplot3d\n",
    "from scipy import stats"
   ]
  },
  {
   "cell_type": "markdown",
   "metadata": {},
   "source": [
    "### European Option w/ GBM"
   ]
  },
  {
   "cell_type": "code",
   "execution_count": 87,
   "metadata": {},
   "outputs": [],
   "source": [
    "nsims = 20000\n",
    "nsteps = 252 # 1 year\n",
    "expiry = 1\n",
    "(timestep, dt) = np.linspace(0, expiry, nsteps+1, retstep=True)\n",
    "\n",
    "# strike price\n",
    "X0 = 100"
   ]
  },
  {
   "cell_type": "code",
   "execution_count": 88,
   "metadata": {},
   "outputs": [],
   "source": [
    "# model parameters\n",
    "mu = 0\n",
    "sigma = 0.2"
   ]
  },
  {
   "cell_type": "code",
   "execution_count": 89,
   "metadata": {},
   "outputs": [],
   "source": [
    "# ABM\n",
    "dX = mu*dt + sigma*np.random.randn(nsims, nsteps) * dt ** 0.5\n",
    "# or add 1 to dX and cumprod\n",
    "gbm = np.concatenate([np.zeros([1, nsims]), np.cumprod(1+dX,1).T])\n",
    "k = X0 * gbm\n",
    "# Expected Value\n",
    "EcdX = X0 * np.exp(timestep*mu)"
   ]
  },
  {
   "cell_type": "code",
   "execution_count": 90,
   "metadata": {},
   "outputs": [
    {
     "data": {
      "image/png": "[encoded data removed]",
      "text/plain": [
       "<Figure size 432x288 with 1 Axes>"
      ]
     },
     "metadata": {
      "needs_background": "light"
     },
     "output_type": "display_data"
    }
   ],
   "source": [
    "plt.hist(k[-1, :], bins=50)\n",
    "plt.axvline(EcdX[-1], color='k')\n",
    "plt.xlabel('Price')\n",
    "plt.title('Price Distribution at expiry')\n",
    "plt.show()"
   ]
  },
  {
   "cell_type": "code",
   "execution_count": 93,
   "metadata": {},
   "outputs": [
    {
     "data": {
      "text/plain": [
       "7.930555718481437"
      ]
     },
     "execution_count": 93,
     "metadata": {},
     "output_type": "execute_result"
    }
   ],
   "source": [
    "# Zero out all OTM outcomes\n",
    "p = (k[-1,:]-X0)*((k[-1,:]-X0)>0)\n",
    "np.mean(p)"
   ]
  },
  {
   "cell_type": "code",
   "execution_count": null,
   "metadata": {},
   "outputs": [],
   "source": []
  }
 ],
 "metadata": {
  "kernelspec": {
   "display_name": "Python 3",
   "language": "python",
   "name": "python3"
  },
  "language_info": {
   "codemirror_mode": {
    "name": "ipython",
    "version": 3
   },
   "file_extension": ".py",
   "mimetype": "text/x-python",
   "name": "python",
   "nbconvert_exporter": "python",
   "pygments_lexer": "ipython3",
   "version": "3.8.2"
  }
 },
 "nbformat": 4,
 "nbformat_minor": 4
}
