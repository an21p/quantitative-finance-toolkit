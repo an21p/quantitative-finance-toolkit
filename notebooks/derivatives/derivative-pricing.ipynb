{
 "cells": [
  {
   "cell_type": "markdown",
   "metadata": {},
   "source": [
    "## Definitions"
   ]
  },
  {
   "cell_type": "markdown",
   "metadata": {},
   "source": [
    "- Strike Price: This is the price at which our option is exercised at\n",
    "- Underlying: This refers to the asset (which could really be anything which has a price) which underlies the derivative contract.\n",
    "- ITM (In-the-money): An option is ITM if it is currently “worth” exercising today i.e. for a call option the current underlying’s price is greater than the strike price (and vice versa for a put).\n",
    "- OTM (Out-of-the-money): An option is OTM if it is currently “not worth” exercising today.\n",
    "- ATM (At-the-money): An option is ATM if it is neither ITM or OTM, i.e. exercising today would have no tangible effect (ignoring any transaction costs/option premiums)."
   ]
  },
  {
   "cell_type": "code",
   "execution_count": 1,
   "metadata": {},
   "outputs": [],
   "source": [
    "import numpy as np\n",
    "import matplotlib.pyplot as plt\n",
    "from scipy import stats\n",
    "from mpl_toolkits.mplot3d import Axes3D\n",
    "from scipy.stats import norm"
   ]
  },
  {
   "cell_type": "markdown",
   "metadata": {},
   "source": [
    "### European Option w/ GBM"
   ]
  },
  {
   "cell_type": "code",
   "execution_count": 2,
   "metadata": {},
   "outputs": [],
   "source": [
    "nsims = 20000\n",
    "nsteps = 252 # 1 year\n",
    "expiry = 1\n",
    "(timestep, dt) = np.linspace(0, expiry, nsteps+1, retstep=True)\n",
    "\n",
    "# strike price\n",
    "X0 = [s for s in range(20, 200, 10)]\n",
    "X0 = 100\n",
    "rate = 0.02"
   ]
  },
  {
   "cell_type": "code",
   "execution_count": 3,
   "metadata": {},
   "outputs": [],
   "source": [
    "# model parameters\n",
    "mu = 0\n",
    "sigma = 0.3"
   ]
  },
  {
   "cell_type": "code",
   "execution_count": 4,
   "metadata": {},
   "outputs": [],
   "source": [
    "# ABM\n",
    "dX = mu*dt + sigma*np.random.randn(nsims, nsteps) * dt ** 0.5\n",
    "cdX = np.concatenate([np.zeros([1, nsims]), np.cumsum(dX,1).T])\n",
    "gbm1 = np.exp(cdX)\n",
    "k = X0 * gbm1\n",
    "# Expected Value\n",
    "EcdX = X0 * np.exp(timestep*mu)"
   ]
  },
  {
   "cell_type": "code",
   "execution_count": 5,
   "metadata": {},
   "outputs": [],
   "source": [
    "# plt.plot(timestep, k)\n",
    "# plt.xlabel('Time')\n",
    "# plt.xlim([0, expiry])\n",
    "# plt.ylim([0, 500])\n",
    "# plt.show()"
   ]
  },
  {
   "cell_type": "code",
   "execution_count": 6,
   "metadata": {},
   "outputs": [
    {
     "data": {
      "image/png": "[encoded data removed]",
      "text/plain": [
       "<Figure size 640x480 with 1 Axes>"
      ]
     },
     "metadata": {},
     "output_type": "display_data"
    }
   ],
   "source": [
    "plt.hist(k[-1, :], bins=50)\n",
    "plt.axvline(EcdX[-1], color='k')\n",
    "plt.xlabel('Price')\n",
    "plt.title('Price Distribution at expiry')\n",
    "plt.show()"
   ]
  },
  {
   "cell_type": "code",
   "execution_count": 7,
   "metadata": {},
   "outputs": [
    {
     "data": {
      "text/plain": [
       "(np.float64(14.497064853310079), np.float64(14.21000373605653))"
      ]
     },
     "execution_count": 7,
     "metadata": {},
     "output_type": "execute_result"
    }
   ],
   "source": [
    "# Zero out all OTM outcomes\n",
    "p = (k[-1,:]-X0)*((k[-1,:]-X0)>0)\n",
    "EV = np.mean(p)\n",
    "PV = EV * np.exp(-rate*1)\n",
    "EV, PV"
   ]
  }
 ],
 "metadata": {
  "kernelspec": {
   "display_name": "Python 3 (ipykernel)",
   "language": "python",
   "name": "python3"
  },
  "language_info": {
   "codemirror_mode": {
    "name": "ipython",
    "version": 3
   },
   "file_extension": ".py",
   "mimetype": "text/x-python",
   "name": "python",
   "nbconvert_exporter": "python",
   "pygments_lexer": "ipython3",
   "version": "3.13.0"
  }
 },
 "nbformat": 4,
 "nbformat_minor": 4
}
