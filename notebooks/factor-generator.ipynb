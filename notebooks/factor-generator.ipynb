{
 "cells": [
  {
   "cell_type": "markdown",
   "id": "16e79bf7",
   "metadata": {},
   "source": [
    "# Fake Portfolio Data\n",
    "\n",
    "I need to build some fake data for X days that for each day includes:\n",
    "- Factor Returns \n",
    "- Weights"
   ]
  },
  {
   "cell_type": "code",
   "execution_count": 364,
   "id": "51453935",
   "metadata": {},
   "outputs": [],
   "source": [
    "import polars as pl\n",
    "import numpy as np\n",
    "from datetime import date, timedelta, datetime\n",
    "np.random.seed(19981)"
   ]
  },
  {
   "cell_type": "code",
   "execution_count": 377,
   "id": "5c1feeb0",
   "metadata": {},
   "outputs": [],
   "source": [
    "size = 1_0000\n",
    "days = 30\n",
    "current_date = date.today()\n",
    "main_df = None\n",
    "main_factors = None\n",
    "scale = 100\n",
    "\n",
    "for i in range(30):\n",
    "    # Random Normal\n",
    "    styles = list(sorted(['MOMENTUM', 'VOLATILITY', 'GROWTH', 'YIELD']))\n",
    "#     styles = list(sorted(['MOMENTUM']))\n",
    "    data = { x: np.random.normal(0,1,size) for x in styles }\n",
    "\n",
    "    # Ramdom Categorical\n",
    "    regions = list( sorted(['US', 'EU', 'ASIA', 'LATAM', 'AU']))\n",
    "    regions = list( sorted(['US', 'EU', 'ASIA']))\n",
    "#     regions = []\n",
    "    sectors = list(sorted(['TECH', 'FINANCE', 'RETAIL', 'BLUE', 'GREEN']))\n",
    "#     sectors = []\n",
    "    \n",
    "    data['R'] = np.random.choice(regions, size)\n",
    "    data['S'] = np.random.choice(sectors, size)\n",
    "\n",
    "    factor_names = data.keys()\n",
    "#     data['ALPHA'] = np.zeros(size) # np.random.normal(0,1, size)\n",
    "    data['ALPHA'] = np.random.normal(0,.5, size)\n",
    "    data['DATE'] = [current_date] * size\n",
    "\n",
    "    df = pl.DataFrame(data)\n",
    "    df = pl.concat([df[['DATE', 'ALPHA']],df[['R', 'S']].to_dummies(), df.drop(['DATE', 'ALPHA','R', 'S'])], how='horizontal')    \n",
    "#     df = pl.concat([df[['DATE', 'ALPHA']], df.drop(['DATE', 'ALPHA','R']), df[['R']].to_dummies()], how='horizontal')    \n",
    "#     df = pl.concat([df[['DATE', 'ALPHA']], df.drop(['DATE', 'ALPHA'])], how='horizontal')    \n",
    "\n",
    "    names = regions+sectors+styles\n",
    "    factors = np.random.normal(0,scale, len(names))\n",
    "    factors = np.round(factors/factors.sum())\n",
    "    factors = np.insert(factors,0,1)\n",
    "    factors = factors.reshape(len(factors),1)\n",
    "    \n",
    "    names.insert(0,'ALPHA')\n",
    "    \n",
    "    factors_df = pl.DataFrame(factors, schema=names, orient=\"col\")\n",
    "    ret = np.dot(factors_df, df.drop(['DATE']).to_numpy().T) #/ ((len(names)-1)+scale*(len(names)-1))\n",
    "    \n",
    "    factors_df = factors_df.with_columns(pl.lit(current_date).dt.date().alias('DATE'))\n",
    "    factors_df = pl.concat([factors_df[['DATE']], factors_df.drop(['DATE'])],  how='horizontal')\n",
    "    df = df.hstack([pl.Series('RETURN', ret.reshape(size))])\n",
    "    \n",
    "    if main_df is None:\n",
    "        main_df = df\n",
    "        main_factors = factors_df\n",
    "    else:\n",
    "        main_df.extend(df)\n",
    "        main_factors.extend(factors_df)\n",
    "        \n",
    "    current_date += timedelta(days=1)"
   ]
  },
  {
   "cell_type": "code",
   "execution_count": 385,
   "id": "4704d13d",
   "metadata": {},
   "outputs": [
    {
     "data": {
      "text/plain": [
       "array([-14.25448361,   2.10228743,   5.43789533, -16.49017609,\n",
       "       -10.6553208 ,  10.84876855,  -0.29611523,   6.54510623,\n",
       "        10.28496622,   7.67100827,  -8.78015883,   6.96881048,\n",
       "         1.61741204])"
      ]
     },
     "execution_count": 385,
     "metadata": {},
     "output_type": "execute_result"
    }
   ],
   "source": [
    "# zzz = np.random.normal(0,scale, len(names))\n",
    "# zzz.sum()\n",
    "# zzz / zzz.sum()"
   ]
  },
  {
   "cell_type": "code",
   "execution_count": 378,
   "id": "76564fb7",
   "metadata": {},
   "outputs": [
    {
     "data": {
      "text/html": [
       "<div><style>\n",
       ".dataframe > thead > tr > th,\n",
       ".dataframe > tbody > tr > td {\n",
       "  text-align: right;\n",
       "}\n",
       "</style>\n",
       "<small>shape: (5, 14)</small><table border=\"1\" class=\"dataframe\"><thead><tr><th>DATE</th><th>ALPHA</th><th>ASIA</th><th>EU</th><th>US</th><th>BLUE</th><th>FINANCE</th><th>GREEN</th><th>RETAIL</th><th>TECH</th><th>GROWTH</th><th>MOMENTUM</th><th>VOLATILITY</th><th>YIELD</th></tr><tr><td>date</td><td>f64</td><td>f64</td><td>f64</td><td>f64</td><td>f64</td><td>f64</td><td>f64</td><td>f64</td><td>f64</td><td>f64</td><td>f64</td><td>f64</td><td>f64</td></tr></thead><tbody><tr><td>2023-05-21</td><td>1.0</td><td>10.0</td><td>-1.0</td><td>1.0</td><td>-5.0</td><td>1.0</td><td>3.0</td><td>-4.0</td><td>-1.0</td><td>1.0</td><td>-7.0</td><td>-1.0</td><td>4.0</td></tr><tr><td>2023-05-22</td><td>1.0</td><td>-1.0</td><td>-0.0</td><td>1.0</td><td>-1.0</td><td>-0.0</td><td>0.0</td><td>-0.0</td><td>2.0</td><td>0.0</td><td>-1.0</td><td>0.0</td><td>1.0</td></tr><tr><td>2023-05-23</td><td>1.0</td><td>0.0</td><td>0.0</td><td>-0.0</td><td>0.0</td><td>-0.0</td><td>0.0</td><td>0.0</td><td>-0.0</td><td>0.0</td><td>0.0</td><td>0.0</td><td>0.0</td></tr><tr><td>2023-05-24</td><td>1.0</td><td>0.0</td><td>-0.0</td><td>-0.0</td><td>-0.0</td><td>0.0</td><td>1.0</td><td>0.0</td><td>0.0</td><td>-1.0</td><td>1.0</td><td>-0.0</td><td>0.0</td></tr><tr><td>2023-05-25</td><td>1.0</td><td>-1.0</td><td>1.0</td><td>0.0</td><td>0.0</td><td>0.0</td><td>-1.0</td><td>-1.0</td><td>-0.0</td><td>-0.0</td><td>2.0</td><td>1.0</td><td>-0.0</td></tr></tbody></table></div>"
      ],
      "text/plain": [
       "shape: (5, 14)\n",
       "┌────────────┬───────┬──────┬──────┬───┬────────┬──────────┬────────────┬───────┐\n",
       "│ DATE       ┆ ALPHA ┆ ASIA ┆ EU   ┆ … ┆ GROWTH ┆ MOMENTUM ┆ VOLATILITY ┆ YIELD │\n",
       "│ ---        ┆ ---   ┆ ---  ┆ ---  ┆   ┆ ---    ┆ ---      ┆ ---        ┆ ---   │\n",
       "│ date       ┆ f64   ┆ f64  ┆ f64  ┆   ┆ f64    ┆ f64      ┆ f64        ┆ f64   │\n",
       "╞════════════╪═══════╪══════╪══════╪═══╪════════╪══════════╪════════════╪═══════╡\n",
       "│ 2023-05-21 ┆ 1.0   ┆ 10.0 ┆ -1.0 ┆ … ┆ 1.0    ┆ -7.0     ┆ -1.0       ┆ 4.0   │\n",
       "│ 2023-05-22 ┆ 1.0   ┆ -1.0 ┆ -0.0 ┆ … ┆ 0.0    ┆ -1.0     ┆ 0.0        ┆ 1.0   │\n",
       "│ 2023-05-23 ┆ 1.0   ┆ 0.0  ┆ 0.0  ┆ … ┆ 0.0    ┆ 0.0      ┆ 0.0        ┆ 0.0   │\n",
       "│ 2023-05-24 ┆ 1.0   ┆ 0.0  ┆ -0.0 ┆ … ┆ -1.0   ┆ 1.0      ┆ -0.0       ┆ 0.0   │\n",
       "│ 2023-05-25 ┆ 1.0   ┆ -1.0 ┆ 1.0  ┆ … ┆ -0.0   ┆ 2.0      ┆ 1.0        ┆ -0.0  │\n",
       "└────────────┴───────┴──────┴──────┴───┴────────┴──────────┴────────────┴───────┘"
      ]
     },
     "execution_count": 378,
     "metadata": {},
     "output_type": "execute_result"
    }
   ],
   "source": [
    "main_factors.head()"
   ]
  },
  {
   "cell_type": "code",
   "execution_count": 379,
   "id": "d929c2c5",
   "metadata": {},
   "outputs": [
    {
     "data": {
      "text/html": [
       "<div><style>\n",
       ".dataframe > thead > tr > th,\n",
       ".dataframe > tbody > tr > td {\n",
       "  text-align: right;\n",
       "}\n",
       "</style>\n",
       "<small>shape: (5, 15)</small><table border=\"1\" class=\"dataframe\"><thead><tr><th>DATE</th><th>ALPHA</th><th>R_ASIA</th><th>R_EU</th><th>R_US</th><th>S_BLUE</th><th>S_FINANCE</th><th>S_GREEN</th><th>S_RETAIL</th><th>S_TECH</th><th>GROWTH</th><th>MOMENTUM</th><th>VOLATILITY</th><th>YIELD</th><th>RETURN</th></tr><tr><td>date</td><td>f64</td><td>u8</td><td>u8</td><td>u8</td><td>u8</td><td>u8</td><td>u8</td><td>u8</td><td>u8</td><td>f64</td><td>f64</td><td>f64</td><td>f64</td><td>f64</td></tr></thead><tbody><tr><td>2023-05-21</td><td>0.120394</td><td>1</td><td>0</td><td>0</td><td>0</td><td>1</td><td>0</td><td>0</td><td>0</td><td>-0.118844</td><td>-0.442826</td><td>0.048512</td><td>-0.509431</td><td>12.015098</td></tr><tr><td>2023-05-21</td><td>0.466741</td><td>0</td><td>1</td><td>0</td><td>0</td><td>0</td><td>1</td><td>0</td><td>0</td><td>-0.35689</td><td>-0.387665</td><td>-1.160233</td><td>-0.285834</td><td>4.8404</td></tr><tr><td>2023-05-21</td><td>-0.811256</td><td>0</td><td>1</td><td>0</td><td>0</td><td>0</td><td>0</td><td>1</td><td>0</td><td>-0.066273</td><td>0.190383</td><td>-0.427118</td><td>1.877026</td><td>0.725009</td></tr><tr><td>2023-05-21</td><td>0.070642</td><td>1</td><td>0</td><td>0</td><td>0</td><td>0</td><td>0</td><td>0</td><td>1</td><td>0.138358</td><td>-0.945388</td><td>-0.846304</td><td>-0.63404</td><td>14.13686</td></tr><tr><td>2023-05-21</td><td>0.398148</td><td>0</td><td>0</td><td>1</td><td>1</td><td>0</td><td>0</td><td>0</td><td>0</td><td>-1.933958</td><td>-1.972134</td><td>0.649253</td><td>-0.839043</td><td>4.2637</td></tr></tbody></table></div>"
      ],
      "text/plain": [
       "shape: (5, 15)\n",
       "┌────────────┬───────────┬────────┬──────┬───┬───────────┬────────────┬───────────┬───────────┐\n",
       "│ DATE       ┆ ALPHA     ┆ R_ASIA ┆ R_EU ┆ … ┆ MOMENTUM  ┆ VOLATILITY ┆ YIELD     ┆ RETURN    │\n",
       "│ ---        ┆ ---       ┆ ---    ┆ ---  ┆   ┆ ---       ┆ ---        ┆ ---       ┆ ---       │\n",
       "│ date       ┆ f64       ┆ u8     ┆ u8   ┆   ┆ f64       ┆ f64        ┆ f64       ┆ f64       │\n",
       "╞════════════╪═══════════╪════════╪══════╪═══╪═══════════╪════════════╪═══════════╪═══════════╡\n",
       "│ 2023-05-21 ┆ 0.120394  ┆ 1      ┆ 0    ┆ … ┆ -0.442826 ┆ 0.048512   ┆ -0.509431 ┆ 12.015098 │\n",
       "│ 2023-05-21 ┆ 0.466741  ┆ 0      ┆ 1    ┆ … ┆ -0.387665 ┆ -1.160233  ┆ -0.285834 ┆ 4.8404    │\n",
       "│ 2023-05-21 ┆ -0.811256 ┆ 0      ┆ 1    ┆ … ┆ 0.190383  ┆ -0.427118  ┆ 1.877026  ┆ 0.725009  │\n",
       "│ 2023-05-21 ┆ 0.070642  ┆ 1      ┆ 0    ┆ … ┆ -0.945388 ┆ -0.846304  ┆ -0.63404  ┆ 14.13686  │\n",
       "│ 2023-05-21 ┆ 0.398148  ┆ 0      ┆ 0    ┆ … ┆ -1.972134 ┆ 0.649253   ┆ -0.839043 ┆ 4.2637    │\n",
       "└────────────┴───────────┴────────┴──────┴───┴───────────┴────────────┴───────────┴───────────┘"
      ]
     },
     "execution_count": 379,
     "metadata": {},
     "output_type": "execute_result"
    }
   ],
   "source": [
    "main_df.head()"
   ]
  },
  {
   "cell_type": "code",
   "execution_count": 380,
   "id": "29055e17",
   "metadata": {},
   "outputs": [
    {
     "name": "stdout",
     "output_type": "stream",
     "text": [
      "1\n"
     ]
    }
   ],
   "source": [
    "main_factors.write_csv('main_factors.csv')\n",
    "main_df.write_csv('main_df.csv')\n",
    "\n",
    "\n",
    "print(1)"
   ]
  },
  {
   "cell_type": "code",
   "execution_count": null,
   "id": "2327a13b",
   "metadata": {},
   "outputs": [],
   "source": []
  },
  {
   "cell_type": "code",
   "execution_count": null,
   "id": "8505871b",
   "metadata": {},
   "outputs": [],
   "source": []
  },
  {
   "cell_type": "code",
   "execution_count": null,
   "id": "7fe52fc0",
   "metadata": {},
   "outputs": [],
   "source": []
  },
  {
   "cell_type": "code",
   "execution_count": null,
   "id": "b000eacc",
   "metadata": {},
   "outputs": [],
   "source": []
  },
  {
   "cell_type": "code",
   "execution_count": null,
   "id": "118b7bc0",
   "metadata": {},
   "outputs": [],
   "source": []
  },
  {
   "cell_type": "code",
   "execution_count": null,
   "id": "45577a70",
   "metadata": {},
   "outputs": [],
   "source": []
  }
 ],
 "metadata": {
  "kernelspec": {
   "display_name": "Python 3 (ipykernel)",
   "language": "python",
   "name": "python3"
  },
  "language_info": {
   "codemirror_mode": {
    "name": "ipython",
    "version": 3
   },
   "file_extension": ".py",
   "mimetype": "text/x-python",
   "name": "python",
   "nbconvert_exporter": "python",
   "pygments_lexer": "ipython3",
   "version": "3.10.9"
  }
 },
 "nbformat": 4,
 "nbformat_minor": 5
}
