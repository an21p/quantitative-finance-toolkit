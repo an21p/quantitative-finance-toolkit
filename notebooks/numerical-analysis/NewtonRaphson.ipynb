{
 "cells": [
  {
   "cell_type": "markdown",
   "id": "02aeb14b",
   "metadata": {},
   "source": [
    "# Newton - Raphson root finding\n"
   ]
  },
  {
   "cell_type": "code",
   "execution_count": 27,
   "id": "de45e343",
   "metadata": {},
   "outputs": [],
   "source": [
    "import numpy as np\n",
    "\n",
    "error = 1e-15\n",
    "iterations = 100"
   ]
  },
  {
   "cell_type": "markdown",
   "id": "44101f2a",
   "metadata": {},
   "source": [
    "$ x' = x - f(x)/f'(x) $"
   ]
  },
  {
   "cell_type": "code",
   "execution_count": 44,
   "id": "e8801951",
   "metadata": {},
   "outputs": [],
   "source": [
    "def fd(x,f,f_hat):\n",
    "    for i in range(iterations):\n",
    "        x_new = x - f(x) / f_hat(x)\n",
    "        if abs(x - x_new < error):\n",
    "            break\n",
    "        x = x_new\n",
    "    return x"
   ]
  },
  {
   "cell_type": "markdown",
   "id": "95a93ae6",
   "metadata": {},
   "source": [
    "$ x = \\sqrt{2} $"
   ]
  },
  {
   "cell_type": "markdown",
   "id": "f01cb34b",
   "metadata": {},
   "source": [
    "$ f(x) = x^2 - 2 $"
   ]
  },
  {
   "cell_type": "code",
   "execution_count": 45,
   "id": "87800d48",
   "metadata": {},
   "outputs": [],
   "source": [
    "def f(x):\n",
    "    return x ** 2 - 2"
   ]
  },
  {
   "cell_type": "markdown",
   "id": "6d80b411",
   "metadata": {},
   "source": [
    "$ f'(x) = 2x $"
   ]
  },
  {
   "cell_type": "code",
   "execution_count": 46,
   "id": "a510a062",
   "metadata": {},
   "outputs": [],
   "source": [
    "def f_hat(x):\n",
    "    return 2 * x"
   ]
  },
  {
   "cell_type": "code",
   "execution_count": 48,
   "id": "6b3cc37d",
   "metadata": {
    "scrolled": true
   },
   "outputs": [
    {
     "name": "stdout",
     "output_type": "stream",
     "text": [
      "1.4142135623730954\n",
      "1.4142135623730951\n"
     ]
    }
   ],
   "source": [
    "x = 10\n",
    "\n",
    "solution = fd(x, f, f_hat)\n",
    "\n",
    "print(solution)\n",
    "print(np.sqrt(2))"
   ]
  },
  {
   "cell_type": "code",
   "execution_count": null,
   "id": "feee24ae",
   "metadata": {},
   "outputs": [],
   "source": []
  },
  {
   "cell_type": "markdown",
   "id": "cd97e7f2",
   "metadata": {},
   "source": [
    "$ x = \\sqrt{10} $"
   ]
  },
  {
   "cell_type": "markdown",
   "id": "06dd2167",
   "metadata": {},
   "source": [
    "$ f(x) = x^2 - 10 $"
   ]
  },
  {
   "cell_type": "code",
   "execution_count": 54,
   "id": "f566dbe5",
   "metadata": {},
   "outputs": [],
   "source": [
    "def f(x):\n",
    "    return x ** 2 - 10"
   ]
  },
  {
   "cell_type": "markdown",
   "id": "79978345",
   "metadata": {},
   "source": [
    "$ f'(x) = 2x $"
   ]
  },
  {
   "cell_type": "code",
   "execution_count": 55,
   "id": "03d33eae",
   "metadata": {},
   "outputs": [],
   "source": [
    "def f_hat(x):\n",
    "    return 2 * x"
   ]
  },
  {
   "cell_type": "code",
   "execution_count": 56,
   "id": "1be9478e",
   "metadata": {
    "scrolled": true
   },
   "outputs": [
    {
     "name": "stdout",
     "output_type": "stream",
     "text": [
      "3.1622776601683795\n",
      "3.1622776601683795\n"
     ]
    }
   ],
   "source": [
    "x = 10\n",
    "\n",
    "solution = fd(x, f, f_hat)\n",
    "\n",
    "print(solution)\n",
    "print(np.sqrt(10))"
   ]
  },
  {
   "cell_type": "code",
   "execution_count": null,
   "id": "7ff6e3bf",
   "metadata": {},
   "outputs": [],
   "source": []
  },
  {
   "cell_type": "markdown",
   "id": "c6a0730f",
   "metadata": {},
   "source": [
    "$ x = \\sqrt{9} $"
   ]
  },
  {
   "cell_type": "markdown",
   "id": "ac44e229",
   "metadata": {},
   "source": [
    "$ f(x) = x^2 - 3 $"
   ]
  },
  {
   "cell_type": "code",
   "execution_count": 61,
   "id": "bf787862",
   "metadata": {},
   "outputs": [],
   "source": [
    "def f(x):\n",
    "    return x ** 2 - 9"
   ]
  },
  {
   "cell_type": "markdown",
   "id": "4ec6a329",
   "metadata": {},
   "source": [
    "$ f'(x) = 2x $"
   ]
  },
  {
   "cell_type": "code",
   "execution_count": 62,
   "id": "ad03c8bb",
   "metadata": {},
   "outputs": [],
   "source": [
    "def f_hat(x):\n",
    "    return 2 * x"
   ]
  },
  {
   "cell_type": "code",
   "execution_count": 63,
   "id": "401473da",
   "metadata": {
    "scrolled": true
   },
   "outputs": [
    {
     "name": "stdout",
     "output_type": "stream",
     "text": [
      "3.0\n",
      "3.0\n"
     ]
    }
   ],
   "source": [
    "x = 10\n",
    "\n",
    "solution = fd(x, f, f_hat)\n",
    "\n",
    "print(solution)\n",
    "print(np.sqrt(9))"
   ]
  },
  {
   "cell_type": "code",
   "execution_count": null,
   "id": "f1a0567b",
   "metadata": {},
   "outputs": [],
   "source": []
  }
 ],
 "metadata": {
  "kernelspec": {
   "display_name": "Python 3 (ipykernel)",
   "language": "python",
   "name": "python3"
  },
  "language_info": {
   "codemirror_mode": {
    "name": "ipython",
    "version": 3
   },
   "file_extension": ".py",
   "mimetype": "text/x-python",
   "name": "python",
   "nbconvert_exporter": "python",
   "pygments_lexer": "ipython3",
   "version": "3.10.9"
  }
 },
 "nbformat": 4,
 "nbformat_minor": 5
}
