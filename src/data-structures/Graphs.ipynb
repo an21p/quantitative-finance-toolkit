{
 "cells": [
  {
   "cell_type": "code",
   "execution_count": 6,
   "id": "64ebf9e0",
   "metadata": {},
   "outputs": [],
   "source": [
    "def bfs(graph, start):\n",
    "    queue = [start]\n",
    "    visited = set()\n",
    "\n",
    "    while queue:\n",
    "        current = queue.pop()\n",
    "        visited.add(current)\n",
    "        print(current)\n",
    "        for adj in graph[current]:\n",
    "            if adj not in visited and adj not in queue:\n",
    "                queue.insert(0,adj)\n",
    "        print(f\"visited {visited}\")\n",
    "        print(f\"queue {queue}\")"
   ]
  },
  {
   "cell_type": "code",
   "execution_count": 11,
   "id": "9b335239",
   "metadata": {},
   "outputs": [],
   "source": [
    "def dfs(graph, start):\n",
    "    stack = [start]\n",
    "    visited = set()\n",
    "\n",
    "    while stack:\n",
    "        current = stack.pop()\n",
    "        visited.add(current)\n",
    "        print(current)\n",
    "        for adj in graph[current]:\n",
    "            if adj not in visited and adj not in stack:\n",
    "                stack.append(adj)\n",
    "        print(f\"visited {visited}\")\n",
    "        print(f\"stack {stack}\")"
   ]
  },
  {
   "cell_type": "markdown",
   "id": "9521507c",
   "metadata": {},
   "source": []
  },
  {
   "cell_type": "code",
   "execution_count": 15,
   "id": "dc309454",
   "metadata": {},
   "outputs": [],
   "source": [
    "g = {\n",
    "    '0': ['1', '2'],\n",
    "    '1': ['0', '3', '4'],\n",
    "    '2': ['0', '5'],\n",
    "    '3': ['1'],\n",
    "    '4': ['1'],\n",
    "    '5': ['2']\n",
    "}"
   ]
  },
  {
   "cell_type": "code",
   "execution_count": 14,
   "id": "abe01a6a",
   "metadata": {},
   "outputs": [
    {
     "name": "stdout",
     "output_type": "stream",
     "text": [
      "0\n",
      "visited {'0'}\n",
      "queue ['2', '1']\n",
      "1\n",
      "visited {'0', '1'}\n",
      "queue ['4', '3', '2']\n",
      "2\n",
      "visited {'0', '1', '2'}\n",
      "queue ['5', '4', '3']\n",
      "3\n",
      "visited {'3', '0', '1', '2'}\n",
      "queue ['5', '4']\n",
      "4\n",
      "visited {'0', '1', '2', '4', '3'}\n",
      "queue ['5']\n",
      "5\n",
      "visited {'5', '0', '1', '2', '4', '3'}\n",
      "queue []\n"
     ]
    }
   ],
   "source": [
    "bfs(g, '0')"
   ]
  },
  {
   "cell_type": "code",
   "execution_count": 13,
   "id": "35663b7f",
   "metadata": {},
   "outputs": [
    {
     "name": "stdout",
     "output_type": "stream",
     "text": [
      "0\n",
      "visited {'0'}\n",
      "stack ['1', '2']\n",
      "2\n",
      "visited {'0', '2'}\n",
      "stack ['1', '5']\n",
      "5\n",
      "visited {'5', '0', '2'}\n",
      "stack ['1']\n",
      "1\n",
      "visited {'5', '0', '1', '2'}\n",
      "stack ['3', '4']\n",
      "4\n",
      "visited {'5', '0', '1', '2', '4'}\n",
      "stack ['3']\n",
      "3\n",
      "visited {'5', '0', '1', '2', '4', '3'}\n",
      "stack []\n"
     ]
    }
   ],
   "source": [
    "dfs(g, '0')"
   ]
  },
  {
   "cell_type": "code",
   "execution_count": null,
   "id": "441af956",
   "metadata": {},
   "outputs": [],
   "source": []
  }
 ],
 "metadata": {
  "kernelspec": {
   "display_name": "Python 3 (ipykernel)",
   "language": "python",
   "name": "python3"
  },
  "language_info": {
   "codemirror_mode": {
    "name": "ipython",
    "version": 3
   },
   "file_extension": ".py",
   "mimetype": "text/x-python",
   "name": "python",
   "nbconvert_exporter": "python",
   "pygments_lexer": "ipython3",
   "version": "3.10.9"
  }
 },
 "nbformat": 4,
 "nbformat_minor": 5
}
