{
 "cells": [
  {
   "cell_type": "code",
   "execution_count": 15,
   "id": "02716eb0",
   "metadata": {},
   "outputs": [],
   "source": [
    "class Heap(object):\n",
    "    def __init__(self, max=False):\n",
    "        self.max = max\n",
    "        if max:\n",
    "            self.heapify_up = self.max_heapify_up\n",
    "            self.heapify_down = self.max_heapify_down\n",
    "        else:\n",
    "            self.heapify_up = self.min_heapify_up\n",
    "            self.heapify_down = self.min_heapify_down\n",
    "        self.items = []\n",
    "\n",
    "    @staticmethod\n",
    "    def left_child_index(index):\n",
    "        return 2 * index + 1\n",
    "\n",
    "    @staticmethod\n",
    "    def right_child_index(index):\n",
    "        return 2 * index + 2\n",
    "\n",
    "    @staticmethod\n",
    "    def parent_index(index):\n",
    "        return (index - 1) // 2\n",
    "\n",
    "    def has_left_child(self, index):\n",
    "        return self.left_child_index(index) < len(self.items)\n",
    "\n",
    "    def has_right_child(self, index):\n",
    "        return self.right_child_index(index) < len(self.items)\n",
    "\n",
    "    def has_parent(self, index):\n",
    "        return self.parent_index(index) >= 0\n",
    "\n",
    "    def left_child(self, index):\n",
    "        return self.items[self.left_child_index(index)]\n",
    "\n",
    "    def right_child(self, index):\n",
    "        return self.items[self.right_child_index(index)]\n",
    "\n",
    "    def parent(self, index):\n",
    "        return self.items[self.parent_index(index)]\n",
    "\n",
    "    def swap(self,idx1, idx2):\n",
    "        self.items[idx1], self.items[idx2] = self.items[idx2], self.items[idx1]\n",
    "\n",
    "    def peek(self):\n",
    "        if not self.items:\n",
    "            return None\n",
    "        else:\n",
    "            return self.items[0]\n",
    "\n",
    "    def insert(self, key, value=None):\n",
    "        self.items.append(key)\n",
    "        self.heapify_up()\n",
    "\n",
    "    def remove(self):\n",
    "        top = self.items[0]\n",
    "        self.items[0] = self.items[-1]\n",
    "        self.items.pop()\n",
    "        self.heapify_down()\n",
    "        return top\n",
    "\n",
    "    def min_heapify_up(self):\n",
    "        index = len(self.items) -1\n",
    "        while self.has_parent(index) and self.parent(index) > self.items[index]:\n",
    "            self.swap(self.parent_index(index), index)\n",
    "            index = self.parent_index(index)\n",
    "\n",
    "    def min_heapify_down(self):\n",
    "        index = 0\n",
    "        while self.has_left_child(index):\n",
    "            smallest_child_index = self.left_child_index(index)\n",
    "            if self.has_right_child(index) and self.right_child(index) < self.left_child(index):\n",
    "                smallest_child_index = self.right_child_index(index)\n",
    "\n",
    "            if self.items[index] < self.items[smallest_child_index]:\n",
    "                break\n",
    "            else:\n",
    "                self.swap(index, smallest_child_index)\n",
    "            index = smallest_child_index\n",
    "\n",
    "    def max_heapify_up(self):\n",
    "        index = len(self.items) - 1\n",
    "        while self.has_parent(index) and self.parent(index) < self.items[index]:\n",
    "            self.swap(self.parent_index(index), index)\n",
    "            index = self.parent_index(index)\n",
    "\n",
    "    def max_heapify_down(self):\n",
    "        index = 0\n",
    "        while self.has_left_child(index):\n",
    "            largest_child_index = self.left_child_index(index)\n",
    "            if self.has_right_child(index) and self.right_child(index) > self.left_child(index):\n",
    "                largest_child_index = self.right_child_index(index)\n",
    "\n",
    "            if self.items[index] > self.items[largest_child_index]:\n",
    "                break\n",
    "            else:\n",
    "                self.swap(index, largest_child_index)\n",
    "            index = largest_child_index"
   ]
  },
  {
   "cell_type": "code",
   "execution_count": 16,
   "id": "75fa1f0c",
   "metadata": {},
   "outputs": [
    {
     "name": "stdout",
     "output_type": "stream",
     "text": [
      "Min-Heap array: [2, 3, 9, 5, 4]\n",
      "3\n",
      "After deleting an element: [3, 4, 9, 5]\n"
     ]
    }
   ],
   "source": [
    "min_heap = Heap()\n",
    "min_heap.insert(3)\n",
    "min_heap.insert(4)\n",
    "min_heap.insert(9)\n",
    "min_heap.insert(5)\n",
    "min_heap.insert(2)\n",
    "print(\"Min-Heap array: \" + str(min_heap.items))\n",
    "min_heap.remove()\n",
    "print(min_heap.peek())\n",
    "print(\"After deleting an element: \" + str(min_heap.items))"
   ]
  },
  {
   "cell_type": "code",
   "execution_count": 18,
   "id": "16362e82",
   "metadata": {},
   "outputs": [
    {
     "name": "stdout",
     "output_type": "stream",
     "text": [
      "Max-Heap array: [9, 5, 4, 3, 2]\n",
      "4\n",
      "After deleting an element: [4, 3, 2]\n"
     ]
    }
   ],
   "source": [
    "max_heap = Heap(max=True)\n",
    "max_heap.insert(3)\n",
    "max_heap.insert(4)\n",
    "max_heap.insert(9)\n",
    "max_heap.insert(5)\n",
    "max_heap.insert(2)\n",
    "print(\"Max-Heap array: \" + str(max_heap.items))\n",
    "max_heap.remove()\n",
    "max_heap.remove()\n",
    "print(max_heap.peek())\n",
    "print(\"After deleting an element: \" + str(max_heap.items))"
   ]
  },
  {
   "cell_type": "code",
   "execution_count": null,
   "id": "5179c899",
   "metadata": {},
   "outputs": [],
   "source": []
  }
 ],
 "metadata": {
  "kernelspec": {
   "display_name": "Python 3 (ipykernel)",
   "language": "python",
   "name": "python3"
  },
  "language_info": {
   "codemirror_mode": {
    "name": "ipython",
    "version": 3
   },
   "file_extension": ".py",
   "mimetype": "text/x-python",
   "name": "python",
   "nbconvert_exporter": "python",
   "pygments_lexer": "ipython3",
   "version": "3.10.9"
  }
 },
 "nbformat": 4,
 "nbformat_minor": 5
}
